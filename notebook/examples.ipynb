{
 "cells": [
  {
   "cell_type": "code",
   "execution_count": null,
   "metadata": {},
   "outputs": [],
   "source": [
    "# import package\n",
    "import pandas as pd\n",
    "import numpy as np\n",
    "import matplotlib.pyplot as plt\n",
    "from bayesian_iv.bayesian_iv import bayesian_iv"
   ]
  },
  {
   "cell_type": "code",
   "execution_count": null,
   "metadata": {},
   "outputs": [],
   "source": [
    "# load data\n",
    "df = pd.read_csv('../data/flu.csv', sep='\\t')\n",
    "df['age'] = (df['age'] - 65) / 10\n",
    "df_female = df[df['female']==1]\n",
    "\n",
    "N = len(df_female)\n",
    "Z = df_female['treatment.assigned'].values\n",
    "W = df_female['treatment.received'].values\n",
    "Y = df_female['outcome'].values\n",
    "X = np.concatenate([np.ones((N, 1)), df_female[['age', 'copd', 'heart.disease']].values], axis=1)"
   ]
  },
  {
   "cell_type": "code",
   "execution_count": null,
   "metadata": {},
   "outputs": [],
   "source": [
    "# Intialize model\n",
    "model = bayesian_iv(\n",
    "    Z=Z,\n",
    "    W=W,\n",
    "    Y=Y,\n",
    "    X=X,\n",
    "    N_a=30\n",
    ")"
   ]
  },
  {
   "cell_type": "code",
   "execution_count": null,
   "metadata": {},
   "outputs": [],
   "source": [
    "# scales of proposal distribution\n",
    "prop_scale = {\n",
    "    'gamma_at': 0.001,\n",
    "    'gamma_nt': 0.001,\n",
    "    'beta_at': 0.001,\n",
    "    'beta_nt': 0.001,\n",
    "    'beta_co_c': 0.001,\n",
    "    'beta_co_t': 0.001\n",
    "}"
   ]
  },
  {
   "cell_type": "code",
   "execution_count": null,
   "metadata": {},
   "outputs": [],
   "source": [
    "# sampling\n",
    "model.sampling(\n",
    "    num_samples=100,\n",
    "    prop_scale=prop_scale,\n",
    "    thinning=10,\n",
    "    burn_in=100\n",
    ")"
   ]
  },
  {
   "cell_type": "code",
   "execution_count": null,
   "metadata": {},
   "outputs": [],
   "source": [
    "# check the output\n",
    "plt.hist(model.tau_late_samples)"
   ]
  }
 ],
 "metadata": {
  "kernelspec": {
   "display_name": "bayesian-iv-ZBu_e1It-py3.12",
   "language": "python",
   "name": "python3"
  },
  "language_info": {
   "codemirror_mode": {
    "name": "ipython",
    "version": 3
   },
   "file_extension": ".py",
   "mimetype": "text/x-python",
   "name": "python",
   "nbconvert_exporter": "python",
   "pygments_lexer": "ipython3",
   "version": "3.12.1"
  }
 },
 "nbformat": 4,
 "nbformat_minor": 2
}
