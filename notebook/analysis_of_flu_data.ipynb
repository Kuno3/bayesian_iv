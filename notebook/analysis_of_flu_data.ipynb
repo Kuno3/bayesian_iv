{
 "cells": [
  {
   "cell_type": "code",
   "execution_count": 9,
   "metadata": {},
   "outputs": [],
   "source": [
    "import pandas as pd\n",
    "import numpy as np\n",
    "import matplotlib.pyplot as plt\n",
    "from bayesian_iv.bayesian_iv import bayesian_iv"
   ]
  },
  {
   "cell_type": "code",
   "execution_count": 2,
   "metadata": {},
   "outputs": [
    {
     "data": {
      "text/html": [
       "<div>\n",
       "<style scoped>\n",
       "    .dataframe tbody tr th:only-of-type {\n",
       "        vertical-align: middle;\n",
       "    }\n",
       "\n",
       "    .dataframe tbody tr th {\n",
       "        vertical-align: top;\n",
       "    }\n",
       "\n",
       "    .dataframe thead th {\n",
       "        text-align: right;\n",
       "    }\n",
       "</style>\n",
       "<table border=\"1\" class=\"dataframe\">\n",
       "  <thead>\n",
       "    <tr style=\"text-align: right;\">\n",
       "      <th></th>\n",
       "      <th>treatment.assigned</th>\n",
       "      <th>treatment.received</th>\n",
       "      <th>outcome</th>\n",
       "      <th>age</th>\n",
       "      <th>copd</th>\n",
       "      <th>heart.disease</th>\n",
       "      <th>female</th>\n",
       "    </tr>\n",
       "  </thead>\n",
       "  <tbody>\n",
       "    <tr>\n",
       "      <th>0</th>\n",
       "      <td>1</td>\n",
       "      <td>1</td>\n",
       "      <td>0</td>\n",
       "      <td>73</td>\n",
       "      <td>0</td>\n",
       "      <td>1</td>\n",
       "      <td>1</td>\n",
       "    </tr>\n",
       "    <tr>\n",
       "      <th>1</th>\n",
       "      <td>0</td>\n",
       "      <td>1</td>\n",
       "      <td>0</td>\n",
       "      <td>65</td>\n",
       "      <td>0</td>\n",
       "      <td>0</td>\n",
       "      <td>1</td>\n",
       "    </tr>\n",
       "    <tr>\n",
       "      <th>2</th>\n",
       "      <td>0</td>\n",
       "      <td>1</td>\n",
       "      <td>0</td>\n",
       "      <td>77</td>\n",
       "      <td>1</td>\n",
       "      <td>1</td>\n",
       "      <td>1</td>\n",
       "    </tr>\n",
       "    <tr>\n",
       "      <th>4</th>\n",
       "      <td>1</td>\n",
       "      <td>0</td>\n",
       "      <td>1</td>\n",
       "      <td>68</td>\n",
       "      <td>0</td>\n",
       "      <td>1</td>\n",
       "      <td>1</td>\n",
       "    </tr>\n",
       "    <tr>\n",
       "      <th>5</th>\n",
       "      <td>1</td>\n",
       "      <td>0</td>\n",
       "      <td>0</td>\n",
       "      <td>66</td>\n",
       "      <td>0</td>\n",
       "      <td>0</td>\n",
       "      <td>1</td>\n",
       "    </tr>\n",
       "  </tbody>\n",
       "</table>\n",
       "</div>"
      ],
      "text/plain": [
       "   treatment.assigned  treatment.received  outcome  age  copd  heart.disease  \\\n",
       "0                   1                   1        0   73     0              1   \n",
       "1                   0                   1        0   65     0              0   \n",
       "2                   0                   1        0   77     1              1   \n",
       "4                   1                   0        1   68     0              1   \n",
       "5                   1                   0        0   66     0              0   \n",
       "\n",
       "   female  \n",
       "0       1  \n",
       "1       1  \n",
       "2       1  \n",
       "4       1  \n",
       "5       1  "
      ]
     },
     "execution_count": 2,
     "metadata": {},
     "output_type": "execute_result"
    }
   ],
   "source": [
    "df = pd.read_csv('../data/flu.csv', sep='\\t')\n",
    "df_female = df[df['female']==1]\n",
    "\n",
    "df_female.head()"
   ]
  },
  {
   "cell_type": "code",
   "execution_count": 3,
   "metadata": {},
   "outputs": [
    {
     "data": {
      "text/html": [
       "<div>\n",
       "<style scoped>\n",
       "    .dataframe tbody tr th:only-of-type {\n",
       "        vertical-align: middle;\n",
       "    }\n",
       "\n",
       "    .dataframe tbody tr th {\n",
       "        vertical-align: top;\n",
       "    }\n",
       "\n",
       "    .dataframe thead th {\n",
       "        text-align: right;\n",
       "    }\n",
       "</style>\n",
       "<table border=\"1\" class=\"dataframe\">\n",
       "  <thead>\n",
       "    <tr style=\"text-align: right;\">\n",
       "      <th></th>\n",
       "      <th>treatment.assigned</th>\n",
       "      <th>treatment.received</th>\n",
       "      <th>outcome</th>\n",
       "      <th>age</th>\n",
       "      <th>copd</th>\n",
       "      <th>heart.disease</th>\n",
       "      <th>female</th>\n",
       "    </tr>\n",
       "  </thead>\n",
       "  <tbody>\n",
       "    <tr>\n",
       "      <th>count</th>\n",
       "      <td>1931.000000</td>\n",
       "      <td>1931.000000</td>\n",
       "      <td>1931.000000</td>\n",
       "      <td>1931.000000</td>\n",
       "      <td>1931.000000</td>\n",
       "      <td>1931.000000</td>\n",
       "      <td>1931.0</td>\n",
       "    </tr>\n",
       "    <tr>\n",
       "      <th>mean</th>\n",
       "      <td>0.525117</td>\n",
       "      <td>0.237701</td>\n",
       "      <td>0.077162</td>\n",
       "      <td>65.394096</td>\n",
       "      <td>0.204039</td>\n",
       "      <td>0.561367</td>\n",
       "      <td>1.0</td>\n",
       "    </tr>\n",
       "    <tr>\n",
       "      <th>std</th>\n",
       "      <td>0.499498</td>\n",
       "      <td>0.425785</td>\n",
       "      <td>0.266918</td>\n",
       "      <td>12.787362</td>\n",
       "      <td>0.403102</td>\n",
       "      <td>0.496348</td>\n",
       "      <td>0.0</td>\n",
       "    </tr>\n",
       "    <tr>\n",
       "      <th>min</th>\n",
       "      <td>0.000000</td>\n",
       "      <td>0.000000</td>\n",
       "      <td>0.000000</td>\n",
       "      <td>16.000000</td>\n",
       "      <td>0.000000</td>\n",
       "      <td>0.000000</td>\n",
       "      <td>1.0</td>\n",
       "    </tr>\n",
       "    <tr>\n",
       "      <th>25%</th>\n",
       "      <td>0.000000</td>\n",
       "      <td>0.000000</td>\n",
       "      <td>0.000000</td>\n",
       "      <td>60.000000</td>\n",
       "      <td>0.000000</td>\n",
       "      <td>0.000000</td>\n",
       "      <td>1.0</td>\n",
       "    </tr>\n",
       "    <tr>\n",
       "      <th>50%</th>\n",
       "      <td>1.000000</td>\n",
       "      <td>0.000000</td>\n",
       "      <td>0.000000</td>\n",
       "      <td>67.000000</td>\n",
       "      <td>0.000000</td>\n",
       "      <td>1.000000</td>\n",
       "      <td>1.0</td>\n",
       "    </tr>\n",
       "    <tr>\n",
       "      <th>75%</th>\n",
       "      <td>1.000000</td>\n",
       "      <td>0.000000</td>\n",
       "      <td>0.000000</td>\n",
       "      <td>74.000000</td>\n",
       "      <td>0.000000</td>\n",
       "      <td>1.000000</td>\n",
       "      <td>1.0</td>\n",
       "    </tr>\n",
       "    <tr>\n",
       "      <th>max</th>\n",
       "      <td>1.000000</td>\n",
       "      <td>1.000000</td>\n",
       "      <td>1.000000</td>\n",
       "      <td>100.000000</td>\n",
       "      <td>1.000000</td>\n",
       "      <td>1.000000</td>\n",
       "      <td>1.0</td>\n",
       "    </tr>\n",
       "  </tbody>\n",
       "</table>\n",
       "</div>"
      ],
      "text/plain": [
       "       treatment.assigned  treatment.received      outcome          age  \\\n",
       "count         1931.000000         1931.000000  1931.000000  1931.000000   \n",
       "mean             0.525117            0.237701     0.077162    65.394096   \n",
       "std              0.499498            0.425785     0.266918    12.787362   \n",
       "min              0.000000            0.000000     0.000000    16.000000   \n",
       "25%              0.000000            0.000000     0.000000    60.000000   \n",
       "50%              1.000000            0.000000     0.000000    67.000000   \n",
       "75%              1.000000            0.000000     0.000000    74.000000   \n",
       "max              1.000000            1.000000     1.000000   100.000000   \n",
       "\n",
       "              copd  heart.disease  female  \n",
       "count  1931.000000    1931.000000  1931.0  \n",
       "mean      0.204039       0.561367     1.0  \n",
       "std       0.403102       0.496348     0.0  \n",
       "min       0.000000       0.000000     1.0  \n",
       "25%       0.000000       0.000000     1.0  \n",
       "50%       0.000000       1.000000     1.0  \n",
       "75%       0.000000       1.000000     1.0  \n",
       "max       1.000000       1.000000     1.0  "
      ]
     },
     "execution_count": 3,
     "metadata": {},
     "output_type": "execute_result"
    }
   ],
   "source": [
    "df_female.describe()"
   ]
  },
  {
   "cell_type": "code",
   "execution_count": 4,
   "metadata": {},
   "outputs": [
    {
     "name": "stdout",
     "output_type": "stream",
     "text": [
      "0.10377614165048107\n",
      "-0.027500489332550407\n"
     ]
    }
   ],
   "source": [
    "print(df_female[df_female['treatment.assigned']==1]['treatment.received'].mean() - df_female[df_female['treatment.assigned']==0]['treatment.received'].mean())\n",
    "print(df_female[df_female['treatment.assigned']==1]['outcome'].mean() - df_female[df_female['treatment.assigned']==0]['outcome'].mean())"
   ]
  },
  {
   "cell_type": "code",
   "execution_count": 7,
   "metadata": {},
   "outputs": [],
   "source": [
    "N = len(df_female)\n",
    "\n",
    "prop_scale = {\n",
    "    'gamma_at': 0.002,\n",
    "    'gamma_nt': 0.002,\n",
    "    'beta_at': 0.003,\n",
    "    'beta_nt': 0.002,\n",
    "    'beta_co_c': 0.005,\n",
    "    'beta_co_t': 0.01\n",
    "}\n",
    "\n",
    "model = bayesian_iv(\n",
    "    Z=df_female['treatment.assigned'].values,\n",
    "    W=df_female['treatment.received'].values,\n",
    "    Y=df_female['outcome'].values,\n",
    "    X=np.concatenate([df_female[['age', 'copd', 'heart.disease']].values, np.ones((N, 1))], axis=1),\n",
    "    N_a = 30\n",
    ")"
   ]
  },
  {
   "cell_type": "code",
   "execution_count": 8,
   "metadata": {},
   "outputs": [
    {
     "name": "stderr",
     "output_type": "stream",
     "text": [
      "100%|██████████| 10000/10000 [03:56<00:00, 42.36it/s]\n"
     ]
    }
   ],
   "source": [
    "model.sampling(\n",
    "    num_samples=10000,\n",
    "    prop_scale=prop_scale\n",
    ")"
   ]
  },
  {
   "cell_type": "code",
   "execution_count": 11,
   "metadata": {},
   "outputs": [
    {
     "data": {
      "text/plain": [
       "[<matplotlib.lines.Line2D at 0x7f7afc304920>]"
      ]
     },
     "execution_count": 11,
     "metadata": {},
     "output_type": "execute_result"
    },
    {
     "data": {
      "image/png": "[encoded data removed]",
      "text/plain": [
       "<Figure size 640x480 with 1 Axes>"
      ]
     },
     "metadata": {},
     "output_type": "display_data"
    }
   ],
   "source": [
    "plt.plot(model.lp_list[2001:])"
   ]
  }
 ],
 "metadata": {
  "kernelspec": {
   "display_name": "bayesian-iv-ZBu_e1It-py3.12",
   "language": "python",
   "name": "python3"
  },
  "language_info": {
   "codemirror_mode": {
    "name": "ipython",
    "version": 3
   },
   "file_extension": ".py",
   "mimetype": "text/x-python",
   "name": "python",
   "nbconvert_exporter": "python",
   "pygments_lexer": "ipython3",
   "version": "3.12.1"
  }
 },
 "nbformat": 4,
 "nbformat_minor": 2
}
